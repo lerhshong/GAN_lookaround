{
 "cells": [
  {
   "cell_type": "code",
   "execution_count": 1,
   "metadata": {},
   "outputs": [
    {
     "name": "stderr",
     "output_type": "stream",
     "text": [
      "Using TensorFlow backend.\n"
     ]
    }
   ],
   "source": [
    "import tensorflow as tf\n",
    "# from tensorflow.keras.layers import (\n",
    "#     Input, Conv2D, Flatten, Dense, Conv2DTranspose, Reshape, Lambda, Activation,\n",
    "#     BatchNormalization, LeakyReLU, Dropout, ZeroPadding2D, UpSampling2D)\n",
    "# from tensorflow.keras.models import Model, Sequential\n",
    "# from tensorflow.keras.optimizers import Adam, RMSprop\n",
    "\n",
    "from keras.layers import (\n",
    "    Input, Conv2D, Flatten, Dense, Conv2DTranspose, Reshape, Lambda, Activation,\n",
    "    BatchNormalization, LeakyReLU, Dropout, ZeroPadding2D, UpSampling2D)\n",
    "from keras.models import Model, Sequential\n",
    "from keras.optimizers import Adam, RMSprop\n",
    "from keras import backend as K\n",
    "from keras.utils import plot_model\n",
    "from keras.initializers import RandomNormal\n",
    "from keras.losses import binary_crossentropy\n",
    "from keras.layers.merge import _Merge\n",
    "from functools import partial\n",
    "\n",
    "import numpy as np\n",
    "import json\n",
    "import os\n",
    "import pickle as pkl\n",
    "import matplotlib.pyplot as plt\n",
    "\n",
    "from keras.datasets import cifar10\n",
    "(x_train, y_train), (x_test, y_test) = cifar10.load_data()\n",
    "\n",
    "# Let's train on cars first. Might be more interesting for the case of insurance.\n",
    "car_label = 1 # Cifar has 1 for automobiles.\n",
    "horse_label = 7 # Cifar has 7 for horses\n",
    "bird_label = 2 \n",
    "\n",
    "train_mask = [y[0] == horse_label for y in y_train]\n",
    "test_mask = [y[0] == horse_label for y in y_test]\n",
    "\n",
    "x_train = x_train[train_mask]\n",
    "y_train = y_train[train_mask]\n",
    "x_test = x_test[test_mask]\n",
    "y_test = y_test[test_mask]\n",
    "\n",
    "assert x_train.shape[0] == y_train.shape[0] # Number of data points is the same.\n",
    "assert x_test.shape[0] == y_test.shape[0]\n",
    "\n",
    "def wasserstein(y_true, y_pred):\n",
    "    return -K.mean(y_true * y_pred)\n",
    "\n",
    "def gradient_penalty_loss(y_true, y_pred, interpolated_samples):\n",
    "    gradients = K.gradients(loss = y_pred,\n",
    "                            variables = interpolated_samples)[0] # SUSPICIOUS\n",
    "    gradients_sqr = K.square(gradients) # Euclidean Norm\n",
    "    gradients_sqr_sum = K.sum(gradients_sqr,\n",
    "                              axis = np.arange(1, len(gradients_sqr.shape)))\n",
    "    gradient_l2_norm = K.sqrt(gradients_sqr_sum)\n",
    "    gradient_penalty = K.square(1 - gradient_l2_norm)\n",
    "    return K.mean(gradient_penalty) # So in the end, just one number."
   ]
  },
  {
   "cell_type": "code",
   "execution_count": 2,
   "metadata": {},
   "outputs": [
    {
     "data": {
      "text/plain": [
       "<matplotlib.image.AxesImage at 0x7fce1827d908>"
      ]
     },
     "execution_count": 2,
     "metadata": {},
     "output_type": "execute_result"
    },
    {
     "data": {
      "image/png": "[encoded data removed]",
      "text/plain": [
       "<Figure size 432x288 with 1 Axes>"
      ]
     },
     "metadata": {},
     "output_type": "display_data"
    }
   ],
   "source": [
    "plt.imshow((x_train[150,:,:,:])) # Why is there a +1, /2 in the original?"
   ]
  },
  {
   "cell_type": "code",
   "execution_count": 3,
   "metadata": {},
   "outputs": [],
   "source": [
    "z_dim = 100\n",
    "batch_size = 64\n",
    "critic_learning_rate = 0.0005\n",
    "generator_learning_rate = 0.0005 # Aren't those learning rates too small?\n",
    "grad_weight = 10\n",
    "epochs = 6000\n",
    "n_critic = 5"
   ]
  },
  {
   "cell_type": "code",
   "execution_count": 4,
   "metadata": {},
   "outputs": [
    {
     "name": "stdout",
     "output_type": "stream",
     "text": [
      "WARNING:tensorflow:From /home/ec2-user/anaconda3/envs/tensorflow_p36/lib/python3.6/site-packages/keras/backend/tensorflow_backend.py:517: The name tf.placeholder is deprecated. Please use tf.compat.v1.placeholder instead.\n",
      "\n",
      "WARNING:tensorflow:From /home/ec2-user/anaconda3/envs/tensorflow_p36/lib/python3.6/site-packages/keras/backend/tensorflow_backend.py:4138: The name tf.random_uniform is deprecated. Please use tf.random.uniform instead.\n",
      "\n",
      "WARNING:tensorflow:From /home/ec2-user/anaconda3/envs/tensorflow_p36/lib/python3.6/site-packages/keras/backend/tensorflow_backend.py:74: The name tf.get_default_graph is deprecated. Please use tf.compat.v1.get_default_graph instead.\n",
      "\n"
     ]
    }
   ],
   "source": [
    "input_dim = x_train[0].shape\n",
    "\n",
    "critic_input = Input(shape = input_dim, name = 'critic_input')\n",
    "\n",
    "x = critic_input\n",
    "x = Conv2D(filters = 32, kernel_size = 5, strides = 2, padding = 'same', \n",
    "           name = 'critic_conv_0', kernel_initializer = 'glorot_uniform')(x)\n",
    "x = LeakyReLU()(x)\n",
    "x = Conv2D(filters = 64, kernel_size = 5, strides = 2, padding = 'same',\n",
    "           name = 'critic_conv_1', kernel_initializer = 'glorot_uniform')(x)\n",
    "x = LeakyReLU()(x)\n",
    "x = Conv2D(filters = 128, kernel_size = 5, strides = 2, padding = 'same',\n",
    "           name = 'critic_conv_2', kernel_initializer = 'glorot_uniform')(x)\n",
    "x = LeakyReLU()(x)\n",
    "x = Conv2D(filters = 128, kernel_size = 5, strides = 1, padding = 'same',\n",
    "           name = 'critic_conv_3', kernel_initializer = 'glorot_uniform')(x)\n",
    "x = LeakyReLU()(x)\n",
    "x = Flatten()(x)\n",
    "# No activation\n",
    "\n",
    "critic_output = Dense(1, activation = None, kernel_initializer = 'glorot_uniform')(x)\n",
    "\n",
    "critic = Model(critic_input, critic_output)"
   ]
  },
  {
   "cell_type": "code",
   "execution_count": 5,
   "metadata": {},
   "outputs": [
    {
     "name": "stdout",
     "output_type": "stream",
     "text": [
      "WARNING:tensorflow:From /home/ec2-user/anaconda3/envs/tensorflow_p36/lib/python3.6/site-packages/keras/backend/tensorflow_backend.py:133: The name tf.placeholder_with_default is deprecated. Please use tf.compat.v1.placeholder_with_default instead.\n",
      "\n",
      "WARNING:tensorflow:From /home/ec2-user/anaconda3/envs/tensorflow_p36/lib/python3.6/site-packages/keras/backend/tensorflow_backend.py:2018: The name tf.image.resize_nearest_neighbor is deprecated. Please use tf.compat.v1.image.resize_nearest_neighbor instead.\n",
      "\n",
      "WARNING:tensorflow:From /home/ec2-user/anaconda3/envs/tensorflow_p36/lib/python3.6/site-packages/keras/backend/tensorflow_backend.py:174: The name tf.get_default_session is deprecated. Please use tf.compat.v1.get_default_session instead.\n",
      "\n",
      "WARNING:tensorflow:From /home/ec2-user/anaconda3/envs/tensorflow_p36/lib/python3.6/site-packages/keras/backend/tensorflow_backend.py:1834: The name tf.nn.fused_batch_norm is deprecated. Please use tf.compat.v1.nn.fused_batch_norm instead.\n",
      "\n"
     ]
    }
   ],
   "source": [
    "generator_initial_dense_layer_size = (4,4,128)\n",
    "generator_input = Input(shape = (z_dim,), name = 'generator_input')\n",
    "\n",
    "x = generator_input\n",
    "x = Dense(np.prod(generator_initial_dense_layer_size),\n",
    "          kernel_initializer = 'glorot_uniform')(x)\n",
    "x = BatchNormalization(momentum = 0.8)(x)\n",
    "x = LeakyReLU()(x)\n",
    "x = Reshape(generator_initial_dense_layer_size)(x)\n",
    "x = UpSampling2D()(x)\n",
    "x = Conv2D(filters = 128, kernel_size = 5, strides = 1, padding = 'same',\n",
    "           name = 'generator_conv_0', kernel_initializer = 'glorot_uniform')(x)\n",
    "x = BatchNormalization(momentum = 0.8)(x)\n",
    "x = LeakyReLU()(x)\n",
    "x = UpSampling2D()(x)\n",
    "x = Conv2D(filters = 64, kernel_size = 5, strides = 1, padding = 'same',\n",
    "           name = 'generator_conv_1', kernel_initializer = 'glorot_uniform')(x)\n",
    "x = BatchNormalization(momentum = 0.8)(x)\n",
    "x = LeakyReLU()(x)\n",
    "x = UpSampling2D()(x)\n",
    "x = Conv2D(filters = 32, kernel_size = 5, strides = 1, padding = 'same',\n",
    "           name = 'generator_conv_2', kernel_initializer = 'glorot_uniform')(x)\n",
    "x = BatchNormalization(momentum = 0.8)(x)\n",
    "x = LeakyReLU()(x)\n",
    "x = Conv2DTranspose(filters = 3, kernel_size = 5, strides = 1, padding = 'same',\n",
    "                    name = 'generator_conv_3', kernel_initializer = 'glorot_uniform')(x)\n",
    "x = Activation('tanh')(x)\n",
    "generator_output = x\n",
    "\n",
    "generator = Model(generator_input, generator_output)"
   ]
  },
  {
   "cell_type": "code",
   "execution_count": 6,
   "metadata": {},
   "outputs": [
    {
     "name": "stdout",
     "output_type": "stream",
     "text": [
      "WARNING:tensorflow:From /home/ec2-user/anaconda3/envs/tensorflow_p36/lib/python3.6/site-packages/keras/optimizers.py:790: The name tf.train.Optimizer is deprecated. Please use tf.compat.v1.train.Optimizer instead.\n",
      "\n"
     ]
    }
   ],
   "source": [
    "# Adversarial\n",
    "# Set the generator as unable to train.\n",
    "# Note to self - any difference between setting the model outright untrainable vs layers\n",
    "# untrainable\n",
    "\n",
    "# See this https://github.com/keras-team/keras/blob/master/keras/layers/merge.py\n",
    "# This means that RandomWeightedAverage should be used as if it was a Merge layer\n",
    "class RandomWeightedAverage(_Merge):\n",
    "    def __init__(self, batch_size):\n",
    "        super().__init__()\n",
    "        self.batch_size = batch_size\n",
    "        \n",
    "    def _merge_function(self, inputs):\n",
    "        alpha = K.random_uniform((self.batch_size, 1,1,1))\n",
    "        return (alpha * inputs[0]) + ((1 - alpha) * inputs[1])\n",
    "\n",
    "    \n",
    "def gradient_penalty_loss(y_true, y_pred, interpolated_samples):\n",
    "    gradients = K.gradients(y_pred, interpolated_samples)[0] # Loss first then gradient, no?\n",
    "    # It should be (loss, variables)??\n",
    "    gradients_sqr = K.square(gradients) # Euclidean Norm\n",
    "    gradients_sqr_sum = K.sum(gradients_sqr,\n",
    "                              axis = np.arange(1, len(gradients_sqr.shape))) # Sum over rows\n",
    "    gradient_l2_norm = K.sqrt(gradients_sqr_sum)\n",
    "    gradient_penalty = K.square(1 - gradient_l2_norm) # Lambda is handled during compilation.\n",
    "    \n",
    "    return K.mean(gradient_penalty)\n",
    "\n",
    "###########################\n",
    "### adversarial compile ###\n",
    "###########################\n",
    "generator.trainable = False\n",
    "for l in generator.layers:\n",
    "    l.trainable = False\n",
    "    \n",
    "# Real image\n",
    "real_img = Input(shape = input_dim)\n",
    "\n",
    "# Fake image\n",
    "z_disc = Input(shape = (z_dim,))\n",
    "fake_img = generator(z_disc)\n",
    "\n",
    "# Critic determines validity of real and fake images\n",
    "fake = critic(fake_img)\n",
    "valid = critic(real_img)\n",
    "\n",
    "# Construct weighted average between real and fake images\n",
    "interpolated_img = RandomWeightedAverage(batch_size = batch_size)([real_img, fake_img])\n",
    "validity_interpolated = critic(interpolated_img)\n",
    "\n",
    "partial_gp_loss = partial(gradient_penalty_loss,\n",
    "                          interpolated_samples = interpolated_img)\n",
    "adversarial = Model(inputs = [real_img, z_disc],\n",
    "                    outputs = [valid, fake, validity_interpolated])\n",
    "\n",
    "adversarial.compile(\n",
    "    loss = [wasserstein, wasserstein, partial_gp_loss],\n",
    "    optimizer = Adam(lr = critic_learning_rate),\n",
    "    loss_weights = [1, 1, grad_weight]\n",
    ")\n",
    "\n",
    "#########################\n",
    "### generator compile ###\n",
    "#########################\n",
    "critic.trainable = False\n",
    "for l in critic.layers:\n",
    "    l.trainable = False\n",
    "    \n",
    "generator.trainable = True\n",
    "for l in generator.layers:\n",
    "    l.trainable = True\n",
    "\n",
    "# You have exactly the same stuff as generator, but at the end you apply the critic.\n",
    "model_input = Input((z_dim,))\n",
    "img = generator(model_input)\n",
    "model_output = critic(img)\n",
    "generator_model = Model(model_input, model_output)\n",
    "generator_model.compile(optimizer = Adam(lr = generator_learning_rate),\n",
    "                        loss = wasserstein)"
   ]
  },
  {
   "cell_type": "code",
   "execution_count": 7,
   "metadata": {},
   "outputs": [
    {
     "name": "stdout",
     "output_type": "stream",
     "text": [
      "WARNING:tensorflow:From /home/ec2-user/anaconda3/envs/tensorflow_p36/lib/python3.6/site-packages/tensorflow/python/ops/math_grad.py:1250: add_dispatch_support.<locals>.wrapper (from tensorflow.python.ops.array_ops) is deprecated and will be removed in a future version.\n",
      "Instructions for updating:\n",
      "Use tf.where in 2.0, which has the same broadcast rule as np.where\n"
     ]
    },
    {
     "name": "stderr",
     "output_type": "stream",
     "text": [
      "/home/ec2-user/anaconda3/envs/tensorflow_p36/lib/python3.6/site-packages/keras/engine/training.py:490: UserWarning: Discrepancy between trainable weights and collected trainable weights, did you set `model.trainable` without calling `model.compile` after ?\n",
      "  'Discrepancy between trainable weights and collected trainable'\n",
      "/home/ec2-user/anaconda3/envs/tensorflow_p36/lib/python3.6/site-packages/keras/engine/training.py:490: UserWarning: Discrepancy between trainable weights and collected trainable weights, did you set `model.trainable` without calling `model.compile` after ?\n",
      "  'Discrepancy between trainable weights and collected trainable'\n"
     ]
    },
    {
     "name": "stdout",
     "output_type": "stream",
     "text": [
      "Completed epoch 0\n"
     ]
    },
    {
     "name": "stderr",
     "output_type": "stream",
     "text": [
      "/home/ec2-user/anaconda3/envs/tensorflow_p36/lib/python3.6/site-packages/keras/engine/training.py:490: UserWarning: Discrepancy between trainable weights and collected trainable weights, did you set `model.trainable` without calling `model.compile` after ?\n",
      "  'Discrepancy between trainable weights and collected trainable'\n"
     ]
    },
    {
     "name": "stdout",
     "output_type": "stream",
     "text": [
      "Completed epoch 500\n",
      "Completed epoch 1000\n",
      "Completed epoch 1500\n",
      "Completed epoch 2000\n",
      "Completed epoch 2500\n",
      "Completed epoch 3000\n",
      "Completed epoch 3500\n",
      "Completed epoch 4000\n",
      "Completed epoch 4500\n",
      "Completed epoch 5000\n",
      "Completed epoch 5500\n",
      "CPU times: user 23min 34s, sys: 4min 15s, total: 27min 50s\n",
      "Wall time: 35min 28s\n"
     ]
    }
   ],
   "source": [
    "%%time\n",
    "# Training\n",
    "d_losses = []\n",
    "d_gens = []\n",
    "\n",
    "for epoch in range(epochs):\n",
    "    for _ in range(n_critic): # Training the critic\n",
    "        valid = np.ones((batch_size, 1))\n",
    "        fake = -np.ones((batch_size, 1))\n",
    "        dummy = np.zeros((batch_size, 1))\n",
    "        \n",
    "        idx = np.random.randint(0, x_train.shape[0], batch_size)\n",
    "        true_imgs = x_train[idx]\n",
    "        \n",
    "        noise = np.random.normal(0, 1, (batch_size, z_dim))\n",
    "        gen_imgs = generator.predict(noise)\n",
    "        d_loss = adversarial.train_on_batch(x = [true_imgs, noise],\n",
    "                                            y = [valid, fake, dummy])\n",
    "    # Training the generator\n",
    "    valid = np.ones((batch_size,1))\n",
    "    noise = np.random.randint(0, 1, (batch_size, z_dim))\n",
    "    d_gen = generator_model.train_on_batch(x = noise,\n",
    "                                           y = valid)\n",
    "    d_losses.append(d_loss)\n",
    "    d_gens.append(d_gen)\n",
    "    \n",
    "    if epoch % 500 == 0:\n",
    "        print('Completed epoch {}'.format(epoch))"
   ]
  },
  {
   "cell_type": "code",
   "execution_count": 14,
   "metadata": {},
   "outputs": [
    {
     "data": {
      "text/plain": [
       "<matplotlib.legend.Legend at 0x7fcde0214fd0>"
      ]
     },
     "execution_count": 14,
     "metadata": {},
     "output_type": "execute_result"
    },
    {
     "data": {
      "image/png": "[encoded data removed]",
      "text/plain": [
       "<Figure size 720x720 with 1 Axes>"
      ]
     },
     "metadata": {},
     "output_type": "display_data"
    }
   ],
   "source": [
    "import seaborn as sns\n",
    "import matplotlib.pyplot as plt\n",
    "\n",
    "critic_loss_real = [i[0] for i in d_losses]\n",
    "critic_loss_fake = [i[1] for i in d_losses]\n",
    "critic_loss_grad = [i[2] for i in d_losses]\n",
    "\n",
    "plt.figure(figsize = (10,10))\n",
    "plt.plot(critic_loss_real, label = 'critic_loss_real')\n",
    "plt.plot(critic_loss_fake, label = 'critic_loss_fake')\n",
    "plt.plot(critic_loss_grad, label = 'critic_loss_grad')\n",
    "plt.legend()\n",
    "# Uh, I guess this means that it failed miserably in training?"
   ]
  },
  {
   "cell_type": "code",
   "execution_count": 15,
   "metadata": {},
   "outputs": [
    {
     "data": {
      "text/plain": [
       "array([[2444614. ],\n",
       "       [2867575.2],\n",
       "       [3712482.2],\n",
       "       [3462630. ],\n",
       "       [2875908. ],\n",
       "       [2452307.2],\n",
       "       [2167240.2],\n",
       "       [3525378.2],\n",
       "       [2221782.5],\n",
       "       [3119067.2]], dtype=float32)"
      ]
     },
     "execution_count": 15,
     "metadata": {},
     "output_type": "execute_result"
    }
   ],
   "source": [
    "idx = np.random.randint(low = 0, high = len(x_test), size = 10)\n",
    "real_imgs = x_test[idx,:,:,:]\n",
    "critic.predict(real_imgs)"
   ]
  },
  {
   "cell_type": "code",
   "execution_count": 16,
   "metadata": {},
   "outputs": [
    {
     "data": {
      "text/plain": [
       "array([[4538.3364],\n",
       "       [4538.3364],\n",
       "       [4538.3364],\n",
       "       [4538.3364],\n",
       "       [4538.3364],\n",
       "       [4538.3364],\n",
       "       [4538.3364],\n",
       "       [4538.3364],\n",
       "       [4538.3364],\n",
       "       [4538.3364]], dtype=float32)"
      ]
     },
     "execution_count": 16,
     "metadata": {},
     "output_type": "execute_result"
    }
   ],
   "source": [
    "noise = np.random.normal(size = (10,z_dim))\n",
    "critic.predict(generator.predict(noise)) # ARGH!"
   ]
  },
  {
   "cell_type": "code",
   "execution_count": 11,
   "metadata": {},
   "outputs": [
    {
     "data": {
      "text/plain": [
       "array([[[[1., 1., 1.],\n",
       "         [1., 1., 1.],\n",
       "         [1., 1., 1.],\n",
       "         ...,\n",
       "         [1., 1., 1.],\n",
       "         [1., 1., 1.],\n",
       "         [1., 1., 1.]],\n",
       "\n",
       "        [[1., 1., 1.],\n",
       "         [1., 1., 1.],\n",
       "         [1., 1., 1.],\n",
       "         ...,\n",
       "         [1., 1., 1.],\n",
       "         [1., 1., 1.],\n",
       "         [1., 1., 1.]],\n",
       "\n",
       "        [[1., 1., 1.],\n",
       "         [1., 1., 1.],\n",
       "         [1., 1., 1.],\n",
       "         ...,\n",
       "         [1., 1., 1.],\n",
       "         [1., 1., 1.],\n",
       "         [1., 1., 1.]],\n",
       "\n",
       "        ...,\n",
       "\n",
       "        [[1., 1., 1.],\n",
       "         [1., 1., 1.],\n",
       "         [1., 1., 1.],\n",
       "         ...,\n",
       "         [1., 1., 1.],\n",
       "         [1., 1., 1.],\n",
       "         [1., 1., 1.]],\n",
       "\n",
       "        [[1., 1., 1.],\n",
       "         [1., 1., 1.],\n",
       "         [1., 1., 1.],\n",
       "         ...,\n",
       "         [1., 1., 1.],\n",
       "         [1., 1., 1.],\n",
       "         [1., 1., 1.]],\n",
       "\n",
       "        [[1., 1., 1.],\n",
       "         [1., 1., 1.],\n",
       "         [1., 1., 1.],\n",
       "         ...,\n",
       "         [1., 1., 1.],\n",
       "         [1., 1., 1.],\n",
       "         [1., 1., 1.]]],\n",
       "\n",
       "\n",
       "       [[[1., 1., 1.],\n",
       "         [1., 1., 1.],\n",
       "         [1., 1., 1.],\n",
       "         ...,\n",
       "         [1., 1., 1.],\n",
       "         [1., 1., 1.],\n",
       "         [1., 1., 1.]],\n",
       "\n",
       "        [[1., 1., 1.],\n",
       "         [1., 1., 1.],\n",
       "         [1., 1., 1.],\n",
       "         ...,\n",
       "         [1., 1., 1.],\n",
       "         [1., 1., 1.],\n",
       "         [1., 1., 1.]],\n",
       "\n",
       "        [[1., 1., 1.],\n",
       "         [1., 1., 1.],\n",
       "         [1., 1., 1.],\n",
       "         ...,\n",
       "         [1., 1., 1.],\n",
       "         [1., 1., 1.],\n",
       "         [1., 1., 1.]],\n",
       "\n",
       "        ...,\n",
       "\n",
       "        [[1., 1., 1.],\n",
       "         [1., 1., 1.],\n",
       "         [1., 1., 1.],\n",
       "         ...,\n",
       "         [1., 1., 1.],\n",
       "         [1., 1., 1.],\n",
       "         [1., 1., 1.]],\n",
       "\n",
       "        [[1., 1., 1.],\n",
       "         [1., 1., 1.],\n",
       "         [1., 1., 1.],\n",
       "         ...,\n",
       "         [1., 1., 1.],\n",
       "         [1., 1., 1.],\n",
       "         [1., 1., 1.]],\n",
       "\n",
       "        [[1., 1., 1.],\n",
       "         [1., 1., 1.],\n",
       "         [1., 1., 1.],\n",
       "         ...,\n",
       "         [1., 1., 1.],\n",
       "         [1., 1., 1.],\n",
       "         [1., 1., 1.]]],\n",
       "\n",
       "\n",
       "       [[[1., 1., 1.],\n",
       "         [1., 1., 1.],\n",
       "         [1., 1., 1.],\n",
       "         ...,\n",
       "         [1., 1., 1.],\n",
       "         [1., 1., 1.],\n",
       "         [1., 1., 1.]],\n",
       "\n",
       "        [[1., 1., 1.],\n",
       "         [1., 1., 1.],\n",
       "         [1., 1., 1.],\n",
       "         ...,\n",
       "         [1., 1., 1.],\n",
       "         [1., 1., 1.],\n",
       "         [1., 1., 1.]],\n",
       "\n",
       "        [[1., 1., 1.],\n",
       "         [1., 1., 1.],\n",
       "         [1., 1., 1.],\n",
       "         ...,\n",
       "         [1., 1., 1.],\n",
       "         [1., 1., 1.],\n",
       "         [1., 1., 1.]],\n",
       "\n",
       "        ...,\n",
       "\n",
       "        [[1., 1., 1.],\n",
       "         [1., 1., 1.],\n",
       "         [1., 1., 1.],\n",
       "         ...,\n",
       "         [1., 1., 1.],\n",
       "         [1., 1., 1.],\n",
       "         [1., 1., 1.]],\n",
       "\n",
       "        [[1., 1., 1.],\n",
       "         [1., 1., 1.],\n",
       "         [1., 1., 1.],\n",
       "         ...,\n",
       "         [1., 1., 1.],\n",
       "         [1., 1., 1.],\n",
       "         [1., 1., 1.]],\n",
       "\n",
       "        [[1., 1., 1.],\n",
       "         [1., 1., 1.],\n",
       "         [1., 1., 1.],\n",
       "         ...,\n",
       "         [1., 1., 1.],\n",
       "         [1., 1., 1.],\n",
       "         [1., 1., 1.]]],\n",
       "\n",
       "\n",
       "       ...,\n",
       "\n",
       "\n",
       "       [[[1., 1., 1.],\n",
       "         [1., 1., 1.],\n",
       "         [1., 1., 1.],\n",
       "         ...,\n",
       "         [1., 1., 1.],\n",
       "         [1., 1., 1.],\n",
       "         [1., 1., 1.]],\n",
       "\n",
       "        [[1., 1., 1.],\n",
       "         [1., 1., 1.],\n",
       "         [1., 1., 1.],\n",
       "         ...,\n",
       "         [1., 1., 1.],\n",
       "         [1., 1., 1.],\n",
       "         [1., 1., 1.]],\n",
       "\n",
       "        [[1., 1., 1.],\n",
       "         [1., 1., 1.],\n",
       "         [1., 1., 1.],\n",
       "         ...,\n",
       "         [1., 1., 1.],\n",
       "         [1., 1., 1.],\n",
       "         [1., 1., 1.]],\n",
       "\n",
       "        ...,\n",
       "\n",
       "        [[1., 1., 1.],\n",
       "         [1., 1., 1.],\n",
       "         [1., 1., 1.],\n",
       "         ...,\n",
       "         [1., 1., 1.],\n",
       "         [1., 1., 1.],\n",
       "         [1., 1., 1.]],\n",
       "\n",
       "        [[1., 1., 1.],\n",
       "         [1., 1., 1.],\n",
       "         [1., 1., 1.],\n",
       "         ...,\n",
       "         [1., 1., 1.],\n",
       "         [1., 1., 1.],\n",
       "         [1., 1., 1.]],\n",
       "\n",
       "        [[1., 1., 1.],\n",
       "         [1., 1., 1.],\n",
       "         [1., 1., 1.],\n",
       "         ...,\n",
       "         [1., 1., 1.],\n",
       "         [1., 1., 1.],\n",
       "         [1., 1., 1.]]],\n",
       "\n",
       "\n",
       "       [[[1., 1., 1.],\n",
       "         [1., 1., 1.],\n",
       "         [1., 1., 1.],\n",
       "         ...,\n",
       "         [1., 1., 1.],\n",
       "         [1., 1., 1.],\n",
       "         [1., 1., 1.]],\n",
       "\n",
       "        [[1., 1., 1.],\n",
       "         [1., 1., 1.],\n",
       "         [1., 1., 1.],\n",
       "         ...,\n",
       "         [1., 1., 1.],\n",
       "         [1., 1., 1.],\n",
       "         [1., 1., 1.]],\n",
       "\n",
       "        [[1., 1., 1.],\n",
       "         [1., 1., 1.],\n",
       "         [1., 1., 1.],\n",
       "         ...,\n",
       "         [1., 1., 1.],\n",
       "         [1., 1., 1.],\n",
       "         [1., 1., 1.]],\n",
       "\n",
       "        ...,\n",
       "\n",
       "        [[1., 1., 1.],\n",
       "         [1., 1., 1.],\n",
       "         [1., 1., 1.],\n",
       "         ...,\n",
       "         [1., 1., 1.],\n",
       "         [1., 1., 1.],\n",
       "         [1., 1., 1.]],\n",
       "\n",
       "        [[1., 1., 1.],\n",
       "         [1., 1., 1.],\n",
       "         [1., 1., 1.],\n",
       "         ...,\n",
       "         [1., 1., 1.],\n",
       "         [1., 1., 1.],\n",
       "         [1., 1., 1.]],\n",
       "\n",
       "        [[1., 1., 1.],\n",
       "         [1., 1., 1.],\n",
       "         [1., 1., 1.],\n",
       "         ...,\n",
       "         [1., 1., 1.],\n",
       "         [1., 1., 1.],\n",
       "         [1., 1., 1.]]],\n",
       "\n",
       "\n",
       "       [[[1., 1., 1.],\n",
       "         [1., 1., 1.],\n",
       "         [1., 1., 1.],\n",
       "         ...,\n",
       "         [1., 1., 1.],\n",
       "         [1., 1., 1.],\n",
       "         [1., 1., 1.]],\n",
       "\n",
       "        [[1., 1., 1.],\n",
       "         [1., 1., 1.],\n",
       "         [1., 1., 1.],\n",
       "         ...,\n",
       "         [1., 1., 1.],\n",
       "         [1., 1., 1.],\n",
       "         [1., 1., 1.]],\n",
       "\n",
       "        [[1., 1., 1.],\n",
       "         [1., 1., 1.],\n",
       "         [1., 1., 1.],\n",
       "         ...,\n",
       "         [1., 1., 1.],\n",
       "         [1., 1., 1.],\n",
       "         [1., 1., 1.]],\n",
       "\n",
       "        ...,\n",
       "\n",
       "        [[1., 1., 1.],\n",
       "         [1., 1., 1.],\n",
       "         [1., 1., 1.],\n",
       "         ...,\n",
       "         [1., 1., 1.],\n",
       "         [1., 1., 1.],\n",
       "         [1., 1., 1.]],\n",
       "\n",
       "        [[1., 1., 1.],\n",
       "         [1., 1., 1.],\n",
       "         [1., 1., 1.],\n",
       "         ...,\n",
       "         [1., 1., 1.],\n",
       "         [1., 1., 1.],\n",
       "         [1., 1., 1.]],\n",
       "\n",
       "        [[1., 1., 1.],\n",
       "         [1., 1., 1.],\n",
       "         [1., 1., 1.],\n",
       "         ...,\n",
       "         [1., 1., 1.],\n",
       "         [1., 1., 1.],\n",
       "         [1., 1., 1.]]]], dtype=float32)"
      ]
     },
     "execution_count": 11,
     "metadata": {},
     "output_type": "execute_result"
    }
   ],
   "source": [
    "generator.predict(noise) # Only predicting a bunch of ones, damn it."
   ]
  },
  {
   "cell_type": "code",
   "execution_count": 12,
   "metadata": {},
   "outputs": [
    {
     "data": {
      "text/plain": [
       "<matplotlib.image.AxesImage at 0x7fcde02b0ac8>"
      ]
     },
     "execution_count": 12,
     "metadata": {},
     "output_type": "execute_result"
    },
    {
     "data": {
      "image/png": "[encoded data removed]",
      "text/plain": [
       "<Figure size 432x288 with 1 Axes>"
      ]
     },
     "metadata": {},
     "output_type": "display_data"
    }
   ],
   "source": [
    "plt.imshow(generator.predict(noise)[1,:]) # Fu"
   ]
  },
  {
   "cell_type": "code",
   "execution_count": 20,
   "metadata": {},
   "outputs": [],
   "source": [
    "critic.save('models/WGANGP_v2/critic')"
   ]
  },
  {
   "cell_type": "code",
   "execution_count": 13,
   "metadata": {},
   "outputs": [],
   "source": [
    "# Try first\n",
    "# Actual code uses batch norm momentum with generator and also has rms-prop instead of adam"
   ]
  }
 ],
 "metadata": {
  "kernelspec": {
   "display_name": "conda_tensorflow_p36",
   "language": "python",
   "name": "conda_tensorflow_p36"
  },
  "language_info": {
   "codemirror_mode": {
    "name": "ipython",
    "version": 3
   },
   "file_extension": ".py",
   "mimetype": "text/x-python",
   "name": "python",
   "nbconvert_exporter": "python",
   "pygments_lexer": "ipython3",
   "version": "3.6.5"
  }
 },
 "nbformat": 4,
 "nbformat_minor": 2
}
